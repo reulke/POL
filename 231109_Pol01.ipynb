{
  "nbformat": 4,
  "nbformat_minor": 0,
  "metadata": {
    "colab": {
      "provenance": [],
      "authorship_tag": "ABX9TyNtoeHM6pQEBO6UFuA3t4w7",
      "include_colab_link": true
    },
    "kernelspec": {
      "name": "python3",
      "display_name": "Python 3"
    },
    "language_info": {
      "name": "python"
    }
  },
  "cells": [
    {
      "cell_type": "markdown",
      "metadata": {
        "id": "view-in-github",
        "colab_type": "text"
      },
      "source": [
        "<a href=\"https://colab.research.google.com/github/reulke/POL/blob/main/231109_Pol01.ipynb\" target=\"_parent\"><img src=\"https://colab.research.google.com/assets/colab-badge.svg\" alt=\"Open In Colab\"/></a>"
      ]
    },
    {
      "cell_type": "code",
      "execution_count": 2,
      "metadata": {
        "colab": {
          "base_uri": "https://localhost:8080/"
        },
        "id": "osUkuNFdWUl1",
        "outputId": "9bf5cdfc-7026-42c4-a688-4d3c39333fc9"
      },
      "outputs": [
        {
          "output_type": "stream",
          "name": "stdout",
          "text": [
            "Collecting polanalyser\n",
            "  Downloading polanalyser-3.0.0-py3-none-any.whl.metadata (12 kB)\n",
            "Downloading polanalyser-3.0.0-py3-none-any.whl (22 kB)\n",
            "Installing collected packages: polanalyser\n",
            "Successfully installed polanalyser-3.0.0\n"
          ]
        }
      ],
      "source": [
        "pip install polanalyser"
      ]
    },
    {
      "cell_type": "code",
      "source": [
        "from google.colab import drive\n",
        "drive.mount('/content/drive')"
      ],
      "metadata": {
        "colab": {
          "base_uri": "https://localhost:8080/"
        },
        "id": "2C1StdSBYUkb",
        "outputId": "cd328d0b-78cb-4541-8a26-f3a8070c66f8"
      },
      "execution_count": 1,
      "outputs": [
        {
          "output_type": "stream",
          "name": "stdout",
          "text": [
            "Mounted at /content/drive\n"
          ]
        }
      ]
    },
    {
      "cell_type": "code",
      "source": [
        "# Show the images with bounding boxes in Colab\n",
        "import os\n",
        "import numpy as np\n",
        "from PIL import Image\n",
        "import polanalyser as pa\n",
        "from matplotlib import pyplot as plt\n",
        "# from IPython.display import display\n",
        "import cv2\n",
        "from pathlib import Path\n",
        "\n",
        "\n",
        "visualization_dir = \"/content/drive/MyDrive/img/pol/240905/\"\n",
        "\n",
        "for viz_file_name in os.listdir(visualization_dir):\n",
        "  print(viz_file_name)\n",
        "  file_name = os.path.basename(viz_file_name)\n",
        "  print('name ',file_name)\n",
        "\n",
        "  img = Image.open(os.path.join(visualization_dir, viz_file_name))\n",
        "  im = np.array(img, dtype=np.float64)\n",
        "\n",
        "  # Display basic information about the image\n",
        "  # print(im.shape,im.dtype)\n",
        "\n",
        "  # Demosaicing\n",
        "  img_000, img_045, img_090, img_135 = pa.demosaicing(im, pa.COLOR_PolarMono)\n",
        "  # print(img_000.shape,img_000.dtype)\n",
        "\n",
        "  # Calculate the Stokes vector per-pixel\n",
        "  image_list = [img_000, img_045, img_090, img_135]\n",
        "  angles = np.deg2rad([0, 45, 90, 135])\n",
        "  img_stokes = pa.calcStokes(image_list, angles)\n",
        "  # print(img_stokes.shape,img_stokes.dtype)\n",
        "\n",
        "  # Decompose the Stokes vector into its components\n",
        "  img_s0, img_s1, img_s2 = cv2.split(img_stokes)\n",
        "\n",
        "  # Convert the Stokes vector to Intensity, DoLP and AoLP\n",
        "  img_intensity = pa.cvtStokesToIntensity(img_stokes)\n",
        "  img_dolp = pa.cvtStokesToDoLP(img_stokes)\n",
        "  img_aolp = pa.cvtStokesToAoLP(img_stokes)\n",
        "  # print(img_intensity.shape,img_intensity.dtype)\n",
        "\n",
        "  oname = file_name + '_intensity.tiff'\n",
        "  cv2.imwrite(os.path.join(visualization_dir, oname), img_intensity)\n",
        "  oname = file_name + '_dolp.tiff'\n",
        "  cv2.imwrite(os.path.join(visualization_dir, oname), img_dolp)\n",
        "  oname = file_name + '_aolp.tiff'\n",
        "  cv2.imwrite(os.path.join(visualization_dir, oname), img_aolp)\n"
      ],
      "metadata": {
        "colab": {
          "base_uri": "https://localhost:8080/"
        },
        "id": "xW00ujb9gYoP",
        "outputId": "5830bcb8-f221-4002-d95e-ad10328b2b65"
      },
      "execution_count": 3,
      "outputs": [
        {
          "output_type": "stream",
          "name": "stdout",
          "text": [
            "767_010.tiff\n",
            "name  767_010.tiff\n",
            "(2048, 2448) float64\n",
            "(2048, 2448) float64\n",
            "(2048, 2448, 3) float64\n",
            "767_011.tiff\n",
            "name  767_011.tiff\n",
            "(2048, 2448) float64\n",
            "(2048, 2448) float64\n",
            "(2048, 2448, 3) float64\n",
            "767_012.tiff\n",
            "name  767_012.tiff\n",
            "(2048, 2448) float64\n",
            "(2048, 2448) float64\n",
            "(2048, 2448, 3) float64\n"
          ]
        }
      ]
    },
    {
      "cell_type": "code",
      "source": [
        "import cv2\n",
        "import polanalyser as pa\n",
        "\n",
        "# Read all images\n",
        "path = \"/content/drive/MyDrive/img/pol/toy_example_3x3_pc\"\n",
        "pcontainer = pa.PolarizationContainer(path)\n",
        "image_list = pcontainer.get_list(\"image\")\n",
        "mueller_psg_list = pcontainer.get_list(\"mueller_psg\")\n",
        "mueller_psa_list = pcontainer.get_list(\"mueller_psa\")\n",
        "\n",
        "print(len(pcontainer))  # 16\n",
        "print(image_list[0].shape)  # (2048, 2448)\n",
        "print(mueller_psg_list[0].shape)  # (3, 3)\n",
        "print(mueller_psa_list[0].shape)  # (3, 3)\n",
        "\n",
        "# Calculate Mueller matrix\n",
        "img_mueller = pa.calcMueller(image_list, mueller_psg_list, mueller_psa_list)\n",
        "\n",
        "print(img_mueller.shape)  # (2048, 2448, 3, 3)\n",
        "\n",
        "# Visualize Mueller matrix image\n",
        "pa.plotMueller(\"plot_mueller.png\", img_mueller, vabsmax=2.0)"
      ],
      "metadata": {
        "id": "Qr9TCUu2Z0sU",
        "colab": {
          "base_uri": "https://localhost:8080/",
          "height": 403
        },
        "outputId": "fd4bbd2b-a711-4339-b535-e1a0b940bb9b"
      },
      "execution_count": null,
      "outputs": [
        {
          "output_type": "error",
          "ename": "FileNotFoundError",
          "evalue": "ignored",
          "traceback": [
            "\u001b[0;31m---------------------------------------------------------------------------\u001b[0m",
            "\u001b[0;31mFileNotFoundError\u001b[0m                         Traceback (most recent call last)",
            "\u001b[0;32m<ipython-input-5-f675c3aa2dd1>\u001b[0m in \u001b[0;36m<cell line: 6>\u001b[0;34m()\u001b[0m\n\u001b[1;32m      4\u001b[0m \u001b[0;31m# Read all images\u001b[0m\u001b[0;34m\u001b[0m\u001b[0;34m\u001b[0m\u001b[0m\n\u001b[1;32m      5\u001b[0m \u001b[0mpath\u001b[0m \u001b[0;34m=\u001b[0m \u001b[0;34m\"/content/drive/MyDrive/img/pol/toy_example_3x3_pc\"\u001b[0m\u001b[0;34m\u001b[0m\u001b[0;34m\u001b[0m\u001b[0m\n\u001b[0;32m----> 6\u001b[0;31m \u001b[0mpcontainer\u001b[0m \u001b[0;34m=\u001b[0m \u001b[0mpa\u001b[0m\u001b[0;34m.\u001b[0m\u001b[0mPolarizationContainer\u001b[0m\u001b[0;34m(\u001b[0m\u001b[0mpath\u001b[0m\u001b[0;34m)\u001b[0m\u001b[0;34m\u001b[0m\u001b[0;34m\u001b[0m\u001b[0m\n\u001b[0m\u001b[1;32m      7\u001b[0m \u001b[0mimage_list\u001b[0m \u001b[0;34m=\u001b[0m \u001b[0mpcontainer\u001b[0m\u001b[0;34m.\u001b[0m\u001b[0mget_list\u001b[0m\u001b[0;34m(\u001b[0m\u001b[0;34m\"image\"\u001b[0m\u001b[0;34m)\u001b[0m\u001b[0;34m\u001b[0m\u001b[0;34m\u001b[0m\u001b[0m\n\u001b[1;32m      8\u001b[0m \u001b[0mmueller_psg_list\u001b[0m \u001b[0;34m=\u001b[0m \u001b[0mpcontainer\u001b[0m\u001b[0;34m.\u001b[0m\u001b[0mget_list\u001b[0m\u001b[0;34m(\u001b[0m\u001b[0;34m\"mueller_psg\"\u001b[0m\u001b[0;34m)\u001b[0m\u001b[0;34m\u001b[0m\u001b[0;34m\u001b[0m\u001b[0m\n",
            "\u001b[0;32m/usr/local/lib/python3.10/dist-packages/polanalyser/container.py\u001b[0m in \u001b[0;36m__init__\u001b[0;34m(self, path)\u001b[0m\n\u001b[1;32m    106\u001b[0m \u001b[0;34m\u001b[0m\u001b[0m\n\u001b[1;32m    107\u001b[0m         \u001b[0;32mif\u001b[0m \u001b[0mpath\u001b[0m \u001b[0;32mis\u001b[0m \u001b[0;32mnot\u001b[0m \u001b[0;32mNone\u001b[0m\u001b[0;34m:\u001b[0m\u001b[0;34m\u001b[0m\u001b[0;34m\u001b[0m\u001b[0m\n\u001b[0;32m--> 108\u001b[0;31m             \u001b[0mself\u001b[0m\u001b[0;34m.\u001b[0m\u001b[0mload\u001b[0m\u001b[0;34m(\u001b[0m\u001b[0mpath\u001b[0m\u001b[0;34m)\u001b[0m\u001b[0;34m\u001b[0m\u001b[0;34m\u001b[0m\u001b[0m\n\u001b[0m\u001b[1;32m    109\u001b[0m \u001b[0;34m\u001b[0m\u001b[0m\n\u001b[1;32m    110\u001b[0m     \u001b[0;32mdef\u001b[0m \u001b[0m__len__\u001b[0m\u001b[0;34m(\u001b[0m\u001b[0mself\u001b[0m\u001b[0;34m)\u001b[0m \u001b[0;34m->\u001b[0m \u001b[0mint\u001b[0m\u001b[0;34m:\u001b[0m\u001b[0;34m\u001b[0m\u001b[0;34m\u001b[0m\u001b[0m\n",
            "\u001b[0;32m/usr/local/lib/python3.10/dist-packages/polanalyser/container.py\u001b[0m in \u001b[0;36mload\u001b[0;34m(self, path)\u001b[0m\n\u001b[1;32m    221\u001b[0m             \u001b[0mpath_img\u001b[0m \u001b[0;34m=\u001b[0m \u001b[0;34mf\"{path}/{basename_img}\"\u001b[0m\u001b[0;34m\u001b[0m\u001b[0;34m\u001b[0m\u001b[0m\n\u001b[1;32m    222\u001b[0m             \u001b[0;32mif\u001b[0m \u001b[0;32mnot\u001b[0m \u001b[0mos\u001b[0m\u001b[0;34m.\u001b[0m\u001b[0mpath\u001b[0m\u001b[0;34m.\u001b[0m\u001b[0mexists\u001b[0m\u001b[0;34m(\u001b[0m\u001b[0mpath_img\u001b[0m\u001b[0;34m)\u001b[0m\u001b[0;34m:\u001b[0m\u001b[0;34m\u001b[0m\u001b[0;34m\u001b[0m\u001b[0m\n\u001b[0;32m--> 223\u001b[0;31m                 \u001b[0;32mraise\u001b[0m \u001b[0mFileNotFoundError\u001b[0m\u001b[0;34m(\u001b[0m\u001b[0;34mf\"'{path_img}' not found.\"\u001b[0m\u001b[0;34m)\u001b[0m\u001b[0;34m\u001b[0m\u001b[0;34m\u001b[0m\u001b[0m\n\u001b[0m\u001b[1;32m    224\u001b[0m \u001b[0;34m\u001b[0m\u001b[0m\n\u001b[1;32m    225\u001b[0m             \u001b[0m_\u001b[0m\u001b[0;34m,\u001b[0m \u001b[0mext_img\u001b[0m \u001b[0;34m=\u001b[0m \u001b[0mos\u001b[0m\u001b[0;34m.\u001b[0m\u001b[0mpath\u001b[0m\u001b[0;34m.\u001b[0m\u001b[0msplitext\u001b[0m\u001b[0;34m(\u001b[0m\u001b[0mbasename_img\u001b[0m\u001b[0;34m)\u001b[0m\u001b[0;34m\u001b[0m\u001b[0;34m\u001b[0m\u001b[0m\n",
            "\u001b[0;31mFileNotFoundError\u001b[0m: '/content/drive/MyDrive/img/pol/toy_example_3x3_pc/image01.exr' not found."
          ]
        }
      ]
    }
  ]
}